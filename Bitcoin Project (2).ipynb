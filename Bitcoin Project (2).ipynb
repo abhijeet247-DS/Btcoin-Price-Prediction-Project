{
 "cells": [
  {
   "cell_type": "markdown",
   "metadata": {},
   "source": [
    "## Project on Bitcoin Price Prediction\n",
    "\n",
    "\n",
    "\n",
    "\n",
    "\n",
    "\n",
    "\n"
   ]
  },
  {
   "cell_type": "markdown",
   "metadata": {},
   "source": [
    "### Understanding the Domain"
   ]
  },
  {
   "cell_type": "markdown",
   "metadata": {},
   "source": [
    "#### Bitcoin is the longest running and most well known cryptocurrency, first released as open source in 2009 by the anonymous Satoshi Nakamoto. Bitcoin serves as a decentralized medium of digital exchange, with transactions verified and recorded in a public distributed ledger (the blockchain) without the need for a trusted record keeping authority or central intermediary. Transaction blocks contain a SHA-256 cryptographic hash of previous transaction blocks, and are thus \"chained\" together, serving as an immutable record of all transactions that have ever occurred. As with any currency/commodity on the market, bitcoin trading and financial instruments soon followed public adoption of bitcoin and continue to grow."
   ]
  },
  {
   "cell_type": "markdown",
   "metadata": {},
   "source": [
    "## Importing Important Libraries"
   ]
  },
  {
   "cell_type": "code",
   "execution_count": 191,
   "metadata": {},
   "outputs": [],
   "source": [
    "import pandas as pd         # Pandas is being used here for data exploration and modeling.\n",
    "import numpy as np          # Numpy(Numerical Python)for scientific computing and performing basic and advanced array operations.\n",
    "import seaborn as sns       # Seaborn provides a high-level interface for drawing attractive and informative statistical graphics.\n",
    "import matplotlib.pyplot as plt # Matplotlib is a comprehensive library for creating static, animated, and interactive visualizations.\n",
    "%matplotlib inline"
   ]
  },
  {
   "cell_type": "markdown",
   "metadata": {},
   "source": [
    "## Importing Dataset"
   ]
  },
  {
   "cell_type": "code",
   "execution_count": 192,
   "metadata": {},
   "outputs": [],
   "source": [
    "bitcoin=pd.read_csv(\"C:\\data sets\\Bitcoin.csv\")"
   ]
  },
  {
   "cell_type": "code",
   "execution_count": 193,
   "metadata": {},
   "outputs": [
    {
     "data": {
      "text/plain": [
       "(2099760, 8)"
      ]
     },
     "execution_count": 193,
     "metadata": {},
     "output_type": "execute_result"
    }
   ],
   "source": [
    "bitcoin.shape        # To check the number of rows and columns in dataset."
   ]
  },
  {
   "cell_type": "code",
   "execution_count": 194,
   "metadata": {},
   "outputs": [
    {
     "data": {
      "text/plain": [
       "Timestamp                 0\n",
       "Open                 109069\n",
       "High                 109069\n",
       "Low                  109069\n",
       "Close                109069\n",
       "Volume_(BTC)         109069\n",
       "Volume_(Currency)    109069\n",
       "Weighted_Price       109069\n",
       "dtype: int64"
      ]
     },
     "execution_count": 194,
     "metadata": {},
     "output_type": "execute_result"
    }
   ],
   "source": [
    "bitcoin.isnull().sum()        # Counting of Null Values in Our Dataset."
   ]
  },
  {
   "cell_type": "code",
   "execution_count": 195,
   "metadata": {},
   "outputs": [
    {
     "name": "stdout",
     "output_type": "stream",
     "text": [
      "<class 'pandas.core.frame.DataFrame'>\n",
      "RangeIndex: 2099760 entries, 0 to 2099759\n",
      "Data columns (total 8 columns):\n",
      "Timestamp            int64\n",
      "Open                 float64\n",
      "High                 float64\n",
      "Low                  float64\n",
      "Close                float64\n",
      "Volume_(BTC)         float64\n",
      "Volume_(Currency)    float64\n",
      "Weighted_Price       float64\n",
      "dtypes: float64(7), int64(1)\n",
      "memory usage: 128.2 MB\n"
     ]
    }
   ],
   "source": [
    "bitcoin.info()    # Getting information about dataset."
   ]
  },
  {
   "cell_type": "markdown",
   "metadata": {},
   "source": [
    "### Converting Timestamp of bitcoin dataset into Date and Time."
   ]
  },
  {
   "cell_type": "code",
   "execution_count": 196,
   "metadata": {},
   "outputs": [],
   "source": [
    "bitcoin[\"Timestamp\"]=pd.to_datetime(bitcoin[\"Timestamp\"],unit=\"s\") # Here...considered unit as second."
   ]
  },
  {
   "cell_type": "markdown",
   "metadata": {},
   "source": [
    "## Treating Missing Values of Columns"
   ]
  },
  {
   "cell_type": "code",
   "execution_count": 197,
   "metadata": {},
   "outputs": [],
   "source": [
    "bitcoin['Volume_(BTC)'].fillna(method='ffill', inplace=True)\n",
    "bitcoin['Volume_(Currency)'].fillna(method='ffill', inplace=True)\n",
    "bitcoin['Weighted_Price'].fillna(method='ffill', inplace=True)\n",
    "\n",
    "\n",
    "bitcoin['Open'].fillna(method='ffill', inplace=True)\n",
    "bitcoin['High'].fillna(method='ffill', inplace=True)\n",
    "bitcoin['Low'].fillna(method='ffill', inplace=True)\n",
    "bitcoin['Close'].fillna(method='ffill', inplace=True)"
   ]
  },
  {
   "cell_type": "code",
   "execution_count": 198,
   "metadata": {},
   "outputs": [],
   "source": [
    "# Here I have renamed the column name of timestamp into Date and time because it has been converted into date and time.\n",
    "bitcoin.rename(columns={'Timestamp':'Date and Time'},inplace=True)"
   ]
  },
  {
   "cell_type": "code",
   "execution_count": 199,
   "metadata": {},
   "outputs": [
    {
     "data": {
      "text/html": [
       "<div>\n",
       "<style scoped>\n",
       "    .dataframe tbody tr th:only-of-type {\n",
       "        vertical-align: middle;\n",
       "    }\n",
       "\n",
       "    .dataframe tbody tr th {\n",
       "        vertical-align: top;\n",
       "    }\n",
       "\n",
       "    .dataframe thead th {\n",
       "        text-align: right;\n",
       "    }\n",
       "</style>\n",
       "<table border=\"1\" class=\"dataframe\">\n",
       "  <thead>\n",
       "    <tr style=\"text-align: right;\">\n",
       "      <th></th>\n",
       "      <th>Date and Time</th>\n",
       "      <th>Open</th>\n",
       "      <th>High</th>\n",
       "      <th>Low</th>\n",
       "      <th>Close</th>\n",
       "      <th>Volume_(BTC)</th>\n",
       "      <th>Volume_(Currency)</th>\n",
       "      <th>Weighted_Price</th>\n",
       "    </tr>\n",
       "  </thead>\n",
       "  <tbody>\n",
       "    <tr>\n",
       "      <th>0</th>\n",
       "      <td>2014-12-01 05:33:00</td>\n",
       "      <td>300.0</td>\n",
       "      <td>300.0</td>\n",
       "      <td>300.0</td>\n",
       "      <td>300.0</td>\n",
       "      <td>0.01</td>\n",
       "      <td>3.0</td>\n",
       "      <td>300.0</td>\n",
       "    </tr>\n",
       "    <tr>\n",
       "      <th>1</th>\n",
       "      <td>2014-12-01 05:34:00</td>\n",
       "      <td>300.0</td>\n",
       "      <td>300.0</td>\n",
       "      <td>300.0</td>\n",
       "      <td>300.0</td>\n",
       "      <td>0.01</td>\n",
       "      <td>3.0</td>\n",
       "      <td>300.0</td>\n",
       "    </tr>\n",
       "    <tr>\n",
       "      <th>2</th>\n",
       "      <td>2014-12-01 05:35:00</td>\n",
       "      <td>300.0</td>\n",
       "      <td>300.0</td>\n",
       "      <td>300.0</td>\n",
       "      <td>300.0</td>\n",
       "      <td>0.01</td>\n",
       "      <td>3.0</td>\n",
       "      <td>300.0</td>\n",
       "    </tr>\n",
       "    <tr>\n",
       "      <th>3</th>\n",
       "      <td>2014-12-01 05:36:00</td>\n",
       "      <td>300.0</td>\n",
       "      <td>300.0</td>\n",
       "      <td>300.0</td>\n",
       "      <td>300.0</td>\n",
       "      <td>0.01</td>\n",
       "      <td>3.0</td>\n",
       "      <td>300.0</td>\n",
       "    </tr>\n",
       "    <tr>\n",
       "      <th>4</th>\n",
       "      <td>2014-12-01 05:37:00</td>\n",
       "      <td>300.0</td>\n",
       "      <td>300.0</td>\n",
       "      <td>300.0</td>\n",
       "      <td>300.0</td>\n",
       "      <td>0.01</td>\n",
       "      <td>3.0</td>\n",
       "      <td>300.0</td>\n",
       "    </tr>\n",
       "  </tbody>\n",
       "</table>\n",
       "</div>"
      ],
      "text/plain": [
       "        Date and Time   Open   High    Low  Close  Volume_(BTC)  \\\n",
       "0 2014-12-01 05:33:00  300.0  300.0  300.0  300.0          0.01   \n",
       "1 2014-12-01 05:34:00  300.0  300.0  300.0  300.0          0.01   \n",
       "2 2014-12-01 05:35:00  300.0  300.0  300.0  300.0          0.01   \n",
       "3 2014-12-01 05:36:00  300.0  300.0  300.0  300.0          0.01   \n",
       "4 2014-12-01 05:37:00  300.0  300.0  300.0  300.0          0.01   \n",
       "\n",
       "   Volume_(Currency)  Weighted_Price  \n",
       "0                3.0           300.0  \n",
       "1                3.0           300.0  \n",
       "2                3.0           300.0  \n",
       "3                3.0           300.0  \n",
       "4                3.0           300.0  "
      ]
     },
     "execution_count": 199,
     "metadata": {},
     "output_type": "execute_result"
    }
   ],
   "source": [
    "bitcoin.head() # Column name of Timestamp has been updated."
   ]
  },
  {
   "cell_type": "code",
   "execution_count": 200,
   "metadata": {},
   "outputs": [
    {
     "data": {
      "text/plain": [
       "Date and Time        0\n",
       "Open                 0\n",
       "High                 0\n",
       "Low                  0\n",
       "Close                0\n",
       "Volume_(BTC)         0\n",
       "Volume_(Currency)    0\n",
       "Weighted_Price       0\n",
       "dtype: int64"
      ]
     },
     "execution_count": 200,
     "metadata": {},
     "output_type": "execute_result"
    }
   ],
   "source": [
    "bitcoin.isnull().sum()\n",
    "# After treating missing values finally checking for any other NaN value"
   ]
  },
  {
   "cell_type": "markdown",
   "metadata": {},
   "source": [
    "## Outlier Detection "
   ]
  },
  {
   "cell_type": "markdown",
   "metadata": {},
   "source": [
    " ### (An outlier is an object that deviates significantly from the rest of the objects.)"
   ]
  },
  {
   "cell_type": "code",
   "execution_count": 1,
   "metadata": {},
   "outputs": [],
   "source": [
    "def detect_outliers(data):\n",
    "    outlier=[]\n",
    "    threshold=3\n",
    "    mean=np.mean(data)\n",
    "    std=np.std(data)\n",
    "    for i in data:\n",
    "        z_score=(i-mean)/std\n",
    "        if np.abs(z_score)>threshold:\n",
    "            outlier.append(i)\n",
    "    return outlier"
   ]
  },
  {
   "cell_type": "code",
   "execution_count": 202,
   "metadata": {},
   "outputs": [
    {
     "data": {
      "text/plain": [
       "14377.49"
      ]
     },
     "execution_count": 202,
     "metadata": {},
     "output_type": "execute_result"
    }
   ],
   "source": [
    "x=detect_outliers(bitcoin[\"Open\"])     # Marking the outliers\n",
    "np.min(x)"
   ]
  },
  {
   "cell_type": "code",
   "execution_count": 203,
   "metadata": {},
   "outputs": [
    {
     "data": {
      "image/png": "[encoded data removed]",
      "text/plain": [
       "<Figure size 432x288 with 1 Axes>"
      ]
     },
     "metadata": {
      "needs_background": "light"
     },
     "output_type": "display_data"
    }
   ],
   "source": [
    "plt.boxplot(bitcoin[\"Open\"],showmeans=True)    #plotting of x(Outliers) using boxplot\n",
    "plt.show()"
   ]
  },
  {
   "cell_type": "code",
   "execution_count": 204,
   "metadata": {},
   "outputs": [
    {
     "data": {
      "text/plain": [
       "14368.99"
      ]
     },
     "execution_count": 204,
     "metadata": {},
     "output_type": "execute_result"
    }
   ],
   "source": [
    "y=detect_outliers(bitcoin[\"Low\"])     # Marking the outliers(y)\n",
    "np.min(y)"
   ]
  },
  {
   "cell_type": "code",
   "execution_count": 205,
   "metadata": {},
   "outputs": [
    {
     "data": {
      "image/png": "[encoded data removed]",
      "text/plain": [
       "<Figure size 432x288 with 1 Axes>"
      ]
     },
     "metadata": {
      "needs_background": "light"
     },
     "output_type": "display_data"
    }
   ],
   "source": [
    "plt.boxplot(bitcoin[\"Low\"],showmeans=True)    #plotting of y(Outliers) using boxplot.\n",
    "plt.show()"
   ]
  },
  {
   "cell_type": "code",
   "execution_count": 206,
   "metadata": {},
   "outputs": [
    {
     "data": {
      "text/plain": [
       "14385.73"
      ]
     },
     "execution_count": 206,
     "metadata": {},
     "output_type": "execute_result"
    }
   ],
   "source": [
    "y1=detect_outliers(bitcoin[\"High\"])     # Marking the outliers\n",
    "np.min(y1)"
   ]
  },
  {
   "cell_type": "code",
   "execution_count": 207,
   "metadata": {},
   "outputs": [
    {
     "data": {
      "image/png": "[encoded data removed]",
      "text/plain": [
       "<Figure size 432x288 with 1 Axes>"
      ]
     },
     "metadata": {
      "needs_background": "light"
     },
     "output_type": "display_data"
    }
   ],
   "source": [
    "plt.boxplot(bitcoin[\"High\"],showmeans=True)    #plotting of y1(Outliers) using boxplot.\n",
    "plt.show()"
   ]
  },
  {
   "cell_type": "code",
   "execution_count": 210,
   "metadata": {},
   "outputs": [
    {
     "data": {
      "text/plain": [
       "14377.74"
      ]
     },
     "execution_count": 210,
     "metadata": {},
     "output_type": "execute_result"
    }
   ],
   "source": [
    "x1=detect_outliers(bitcoin[\"Close\"])     # Marking the outliers\n",
    "np.min(x1)"
   ]
  },
  {
   "cell_type": "code",
   "execution_count": 211,
   "metadata": {},
   "outputs": [
    {
     "data": {
      "image/png": "[encoded data removed]",
      "text/plain": [
       "<Figure size 432x288 with 1 Axes>"
      ]
     },
     "metadata": {
      "needs_background": "light"
     },
     "output_type": "display_data"
    }
   ],
   "source": [
    "plt.boxplot(bitcoin[\"Close\"],showmeans=True)    #plotting of x1(Outliers) using boxplot.\n",
    "plt.show()"
   ]
  },
  {
   "cell_type": "markdown",
   "metadata": {},
   "source": [
    "# Standardization"
   ]
  },
  {
   "cell_type": "code",
   "execution_count": 212,
   "metadata": {},
   "outputs": [],
   "source": [
    "from sklearn.preprocessing import StandardScaler\n",
    "scaling=StandardScaler()\n",
    "a1=scaling.fit_transform(bitcoin[[\"High\"]])\n",
    "a2=scaling.fit_transform(bitcoin[[\"Low\"]])\n",
    "a3=scaling.fit_transform(bitcoin[[\"Open\"]])\n",
    "a4=scaling.fit_transform(bitcoin[[\"Close\"]])"
   ]
  },
  {
   "cell_type": "code",
   "execution_count": 213,
   "metadata": {},
   "outputs": [],
   "source": [
    "a1=pd.DataFrame(a1)\n",
    "a2=pd.DataFrame(a2)\n",
    "a3=pd.DataFrame(a3)\n",
    "a4=pd.DataFrame(a4)"
   ]
  },
  {
   "cell_type": "code",
   "execution_count": 214,
   "metadata": {},
   "outputs": [],
   "source": [
    "from sklearn.preprocessing import MinMaxScaler\n",
    "scaling=MinMaxScaler()\n",
    "a1=scaling.fit_transform(bitcoin[[\"High\"]])\n",
    "a2=scaling.fit_transform(bitcoin[[\"Low\"]])"
   ]
  },
  {
   "cell_type": "code",
   "execution_count": 215,
   "metadata": {},
   "outputs": [
    {
     "data": {
      "text/plain": [
       "array([[0.01507848],\n",
       "       [0.01507848],\n",
       "       [0.01507848],\n",
       "       ...,\n",
       "       [0.20138569],\n",
       "       [0.20138569],\n",
       "       [0.20138569]])"
      ]
     },
     "execution_count": 215,
     "metadata": {},
     "output_type": "execute_result"
    }
   ],
   "source": [
    "a1"
   ]
  },
  {
   "cell_type": "code",
   "execution_count": 216,
   "metadata": {},
   "outputs": [
    {
     "data": {
      "text/plain": [
       "array([[0.01507848],\n",
       "       [0.01507848],\n",
       "       [0.01507848],\n",
       "       ...,\n",
       "       [0.20138529],\n",
       "       [0.20136015],\n",
       "       [0.20136065]])"
      ]
     },
     "execution_count": 216,
     "metadata": {},
     "output_type": "execute_result"
    }
   ],
   "source": [
    "a2"
   ]
  },
  {
   "cell_type": "code",
   "execution_count": 217,
   "metadata": {},
   "outputs": [
    {
     "data": {
      "text/html": [
       "<div>\n",
       "<style scoped>\n",
       "    .dataframe tbody tr th:only-of-type {\n",
       "        vertical-align: middle;\n",
       "    }\n",
       "\n",
       "    .dataframe tbody tr th {\n",
       "        vertical-align: top;\n",
       "    }\n",
       "\n",
       "    .dataframe thead th {\n",
       "        text-align: right;\n",
       "    }\n",
       "</style>\n",
       "<table border=\"1\" class=\"dataframe\">\n",
       "  <thead>\n",
       "    <tr style=\"text-align: right;\">\n",
       "      <th></th>\n",
       "      <th>0</th>\n",
       "    </tr>\n",
       "  </thead>\n",
       "  <tbody>\n",
       "    <tr>\n",
       "      <th>0</th>\n",
       "      <td>-0.747081</td>\n",
       "    </tr>\n",
       "    <tr>\n",
       "      <th>1</th>\n",
       "      <td>-0.747081</td>\n",
       "    </tr>\n",
       "    <tr>\n",
       "      <th>2</th>\n",
       "      <td>-0.747081</td>\n",
       "    </tr>\n",
       "    <tr>\n",
       "      <th>3</th>\n",
       "      <td>-0.747081</td>\n",
       "    </tr>\n",
       "    <tr>\n",
       "      <th>4</th>\n",
       "      <td>-0.747081</td>\n",
       "    </tr>\n",
       "    <tr>\n",
       "      <th>5</th>\n",
       "      <td>-0.747081</td>\n",
       "    </tr>\n",
       "    <tr>\n",
       "      <th>6</th>\n",
       "      <td>-0.747081</td>\n",
       "    </tr>\n",
       "    <tr>\n",
       "      <th>7</th>\n",
       "      <td>-0.747081</td>\n",
       "    </tr>\n",
       "    <tr>\n",
       "      <th>8</th>\n",
       "      <td>-0.747081</td>\n",
       "    </tr>\n",
       "    <tr>\n",
       "      <th>9</th>\n",
       "      <td>-0.747081</td>\n",
       "    </tr>\n",
       "    <tr>\n",
       "      <th>10</th>\n",
       "      <td>-0.747081</td>\n",
       "    </tr>\n",
       "    <tr>\n",
       "      <th>11</th>\n",
       "      <td>-0.747081</td>\n",
       "    </tr>\n",
       "    <tr>\n",
       "      <th>12</th>\n",
       "      <td>-0.747081</td>\n",
       "    </tr>\n",
       "    <tr>\n",
       "      <th>13</th>\n",
       "      <td>-0.747081</td>\n",
       "    </tr>\n",
       "    <tr>\n",
       "      <th>14</th>\n",
       "      <td>-0.747081</td>\n",
       "    </tr>\n",
       "    <tr>\n",
       "      <th>15</th>\n",
       "      <td>-0.747081</td>\n",
       "    </tr>\n",
       "    <tr>\n",
       "      <th>16</th>\n",
       "      <td>-0.747081</td>\n",
       "    </tr>\n",
       "    <tr>\n",
       "      <th>17</th>\n",
       "      <td>-0.747081</td>\n",
       "    </tr>\n",
       "    <tr>\n",
       "      <th>18</th>\n",
       "      <td>-0.747081</td>\n",
       "    </tr>\n",
       "    <tr>\n",
       "      <th>19</th>\n",
       "      <td>-0.747081</td>\n",
       "    </tr>\n",
       "    <tr>\n",
       "      <th>20</th>\n",
       "      <td>-0.747081</td>\n",
       "    </tr>\n",
       "    <tr>\n",
       "      <th>21</th>\n",
       "      <td>-0.747081</td>\n",
       "    </tr>\n",
       "    <tr>\n",
       "      <th>22</th>\n",
       "      <td>-0.747081</td>\n",
       "    </tr>\n",
       "    <tr>\n",
       "      <th>23</th>\n",
       "      <td>-0.747081</td>\n",
       "    </tr>\n",
       "    <tr>\n",
       "      <th>24</th>\n",
       "      <td>-0.747081</td>\n",
       "    </tr>\n",
       "    <tr>\n",
       "      <th>25</th>\n",
       "      <td>-0.747081</td>\n",
       "    </tr>\n",
       "    <tr>\n",
       "      <th>26</th>\n",
       "      <td>-0.747081</td>\n",
       "    </tr>\n",
       "    <tr>\n",
       "      <th>27</th>\n",
       "      <td>-0.747081</td>\n",
       "    </tr>\n",
       "    <tr>\n",
       "      <th>28</th>\n",
       "      <td>-0.747081</td>\n",
       "    </tr>\n",
       "    <tr>\n",
       "      <th>29</th>\n",
       "      <td>-0.747081</td>\n",
       "    </tr>\n",
       "    <tr>\n",
       "      <th>...</th>\n",
       "      <td>...</td>\n",
       "    </tr>\n",
       "    <tr>\n",
       "      <th>2099730</th>\n",
       "      <td>0.240836</td>\n",
       "    </tr>\n",
       "    <tr>\n",
       "      <th>2099731</th>\n",
       "      <td>0.240836</td>\n",
       "    </tr>\n",
       "    <tr>\n",
       "      <th>2099732</th>\n",
       "      <td>0.240836</td>\n",
       "    </tr>\n",
       "    <tr>\n",
       "      <th>2099733</th>\n",
       "      <td>0.241352</td>\n",
       "    </tr>\n",
       "    <tr>\n",
       "      <th>2099734</th>\n",
       "      <td>0.241765</td>\n",
       "    </tr>\n",
       "    <tr>\n",
       "      <th>2099735</th>\n",
       "      <td>0.241978</td>\n",
       "    </tr>\n",
       "    <tr>\n",
       "      <th>2099736</th>\n",
       "      <td>0.241978</td>\n",
       "    </tr>\n",
       "    <tr>\n",
       "      <th>2099737</th>\n",
       "      <td>0.241978</td>\n",
       "    </tr>\n",
       "    <tr>\n",
       "      <th>2099738</th>\n",
       "      <td>0.241672</td>\n",
       "    </tr>\n",
       "    <tr>\n",
       "      <th>2099739</th>\n",
       "      <td>0.242569</td>\n",
       "    </tr>\n",
       "    <tr>\n",
       "      <th>2099740</th>\n",
       "      <td>0.241738</td>\n",
       "    </tr>\n",
       "    <tr>\n",
       "      <th>2099741</th>\n",
       "      <td>0.241962</td>\n",
       "    </tr>\n",
       "    <tr>\n",
       "      <th>2099742</th>\n",
       "      <td>0.241672</td>\n",
       "    </tr>\n",
       "    <tr>\n",
       "      <th>2099743</th>\n",
       "      <td>0.241672</td>\n",
       "    </tr>\n",
       "    <tr>\n",
       "      <th>2099744</th>\n",
       "      <td>0.241073</td>\n",
       "    </tr>\n",
       "    <tr>\n",
       "      <th>2099745</th>\n",
       "      <td>0.240801</td>\n",
       "    </tr>\n",
       "    <tr>\n",
       "      <th>2099746</th>\n",
       "      <td>0.240628</td>\n",
       "    </tr>\n",
       "    <tr>\n",
       "      <th>2099747</th>\n",
       "      <td>0.240625</td>\n",
       "    </tr>\n",
       "    <tr>\n",
       "      <th>2099748</th>\n",
       "      <td>0.240623</td>\n",
       "    </tr>\n",
       "    <tr>\n",
       "      <th>2099749</th>\n",
       "      <td>0.240649</td>\n",
       "    </tr>\n",
       "    <tr>\n",
       "      <th>2099750</th>\n",
       "      <td>0.240311</td>\n",
       "    </tr>\n",
       "    <tr>\n",
       "      <th>2099751</th>\n",
       "      <td>0.239635</td>\n",
       "    </tr>\n",
       "    <tr>\n",
       "      <th>2099752</th>\n",
       "      <td>0.238701</td>\n",
       "    </tr>\n",
       "    <tr>\n",
       "      <th>2099753</th>\n",
       "      <td>0.239518</td>\n",
       "    </tr>\n",
       "    <tr>\n",
       "      <th>2099754</th>\n",
       "      <td>0.239521</td>\n",
       "    </tr>\n",
       "    <tr>\n",
       "      <th>2099755</th>\n",
       "      <td>0.239372</td>\n",
       "    </tr>\n",
       "    <tr>\n",
       "      <th>2099756</th>\n",
       "      <td>0.239372</td>\n",
       "    </tr>\n",
       "    <tr>\n",
       "      <th>2099757</th>\n",
       "      <td>0.239372</td>\n",
       "    </tr>\n",
       "    <tr>\n",
       "      <th>2099758</th>\n",
       "      <td>0.239372</td>\n",
       "    </tr>\n",
       "    <tr>\n",
       "      <th>2099759</th>\n",
       "      <td>0.239239</td>\n",
       "    </tr>\n",
       "  </tbody>\n",
       "</table>\n",
       "<p>2099760 rows × 1 columns</p>\n",
       "</div>"
      ],
      "text/plain": [
       "                0\n",
       "0       -0.747081\n",
       "1       -0.747081\n",
       "2       -0.747081\n",
       "3       -0.747081\n",
       "4       -0.747081\n",
       "5       -0.747081\n",
       "6       -0.747081\n",
       "7       -0.747081\n",
       "8       -0.747081\n",
       "9       -0.747081\n",
       "10      -0.747081\n",
       "11      -0.747081\n",
       "12      -0.747081\n",
       "13      -0.747081\n",
       "14      -0.747081\n",
       "15      -0.747081\n",
       "16      -0.747081\n",
       "17      -0.747081\n",
       "18      -0.747081\n",
       "19      -0.747081\n",
       "20      -0.747081\n",
       "21      -0.747081\n",
       "22      -0.747081\n",
       "23      -0.747081\n",
       "24      -0.747081\n",
       "25      -0.747081\n",
       "26      -0.747081\n",
       "27      -0.747081\n",
       "28      -0.747081\n",
       "29      -0.747081\n",
       "...           ...\n",
       "2099730  0.240836\n",
       "2099731  0.240836\n",
       "2099732  0.240836\n",
       "2099733  0.241352\n",
       "2099734  0.241765\n",
       "2099735  0.241978\n",
       "2099736  0.241978\n",
       "2099737  0.241978\n",
       "2099738  0.241672\n",
       "2099739  0.242569\n",
       "2099740  0.241738\n",
       "2099741  0.241962\n",
       "2099742  0.241672\n",
       "2099743  0.241672\n",
       "2099744  0.241073\n",
       "2099745  0.240801\n",
       "2099746  0.240628\n",
       "2099747  0.240625\n",
       "2099748  0.240623\n",
       "2099749  0.240649\n",
       "2099750  0.240311\n",
       "2099751  0.239635\n",
       "2099752  0.238701\n",
       "2099753  0.239518\n",
       "2099754  0.239521\n",
       "2099755  0.239372\n",
       "2099756  0.239372\n",
       "2099757  0.239372\n",
       "2099758  0.239372\n",
       "2099759  0.239239\n",
       "\n",
       "[2099760 rows x 1 columns]"
      ]
     },
     "execution_count": 217,
     "metadata": {},
     "output_type": "execute_result"
    }
   ],
   "source": [
    "a3"
   ]
  },
  {
   "cell_type": "code",
   "execution_count": 218,
   "metadata": {},
   "outputs": [
    {
     "data": {
      "text/html": [
       "<div>\n",
       "<style scoped>\n",
       "    .dataframe tbody tr th:only-of-type {\n",
       "        vertical-align: middle;\n",
       "    }\n",
       "\n",
       "    .dataframe tbody tr th {\n",
       "        vertical-align: top;\n",
       "    }\n",
       "\n",
       "    .dataframe thead th {\n",
       "        text-align: right;\n",
       "    }\n",
       "</style>\n",
       "<table border=\"1\" class=\"dataframe\">\n",
       "  <thead>\n",
       "    <tr style=\"text-align: right;\">\n",
       "      <th></th>\n",
       "      <th>0</th>\n",
       "    </tr>\n",
       "  </thead>\n",
       "  <tbody>\n",
       "    <tr>\n",
       "      <th>0</th>\n",
       "      <td>-0.747075</td>\n",
       "    </tr>\n",
       "    <tr>\n",
       "      <th>1</th>\n",
       "      <td>-0.747075</td>\n",
       "    </tr>\n",
       "    <tr>\n",
       "      <th>2</th>\n",
       "      <td>-0.747075</td>\n",
       "    </tr>\n",
       "    <tr>\n",
       "      <th>3</th>\n",
       "      <td>-0.747075</td>\n",
       "    </tr>\n",
       "    <tr>\n",
       "      <th>4</th>\n",
       "      <td>-0.747075</td>\n",
       "    </tr>\n",
       "    <tr>\n",
       "      <th>5</th>\n",
       "      <td>-0.747075</td>\n",
       "    </tr>\n",
       "    <tr>\n",
       "      <th>6</th>\n",
       "      <td>-0.747075</td>\n",
       "    </tr>\n",
       "    <tr>\n",
       "      <th>7</th>\n",
       "      <td>-0.747075</td>\n",
       "    </tr>\n",
       "    <tr>\n",
       "      <th>8</th>\n",
       "      <td>-0.747075</td>\n",
       "    </tr>\n",
       "    <tr>\n",
       "      <th>9</th>\n",
       "      <td>-0.747075</td>\n",
       "    </tr>\n",
       "    <tr>\n",
       "      <th>10</th>\n",
       "      <td>-0.747075</td>\n",
       "    </tr>\n",
       "    <tr>\n",
       "      <th>11</th>\n",
       "      <td>-0.747075</td>\n",
       "    </tr>\n",
       "    <tr>\n",
       "      <th>12</th>\n",
       "      <td>-0.747075</td>\n",
       "    </tr>\n",
       "    <tr>\n",
       "      <th>13</th>\n",
       "      <td>-0.747075</td>\n",
       "    </tr>\n",
       "    <tr>\n",
       "      <th>14</th>\n",
       "      <td>-0.747075</td>\n",
       "    </tr>\n",
       "    <tr>\n",
       "      <th>15</th>\n",
       "      <td>-0.747075</td>\n",
       "    </tr>\n",
       "    <tr>\n",
       "      <th>16</th>\n",
       "      <td>-0.747075</td>\n",
       "    </tr>\n",
       "    <tr>\n",
       "      <th>17</th>\n",
       "      <td>-0.747075</td>\n",
       "    </tr>\n",
       "    <tr>\n",
       "      <th>18</th>\n",
       "      <td>-0.747075</td>\n",
       "    </tr>\n",
       "    <tr>\n",
       "      <th>19</th>\n",
       "      <td>-0.747075</td>\n",
       "    </tr>\n",
       "    <tr>\n",
       "      <th>20</th>\n",
       "      <td>-0.747075</td>\n",
       "    </tr>\n",
       "    <tr>\n",
       "      <th>21</th>\n",
       "      <td>-0.747075</td>\n",
       "    </tr>\n",
       "    <tr>\n",
       "      <th>22</th>\n",
       "      <td>-0.747075</td>\n",
       "    </tr>\n",
       "    <tr>\n",
       "      <th>23</th>\n",
       "      <td>-0.747075</td>\n",
       "    </tr>\n",
       "    <tr>\n",
       "      <th>24</th>\n",
       "      <td>-0.747075</td>\n",
       "    </tr>\n",
       "    <tr>\n",
       "      <th>25</th>\n",
       "      <td>-0.747075</td>\n",
       "    </tr>\n",
       "    <tr>\n",
       "      <th>26</th>\n",
       "      <td>-0.747075</td>\n",
       "    </tr>\n",
       "    <tr>\n",
       "      <th>27</th>\n",
       "      <td>-0.747075</td>\n",
       "    </tr>\n",
       "    <tr>\n",
       "      <th>28</th>\n",
       "      <td>-0.747075</td>\n",
       "    </tr>\n",
       "    <tr>\n",
       "      <th>29</th>\n",
       "      <td>-0.747075</td>\n",
       "    </tr>\n",
       "    <tr>\n",
       "      <th>...</th>\n",
       "      <td>...</td>\n",
       "    </tr>\n",
       "    <tr>\n",
       "      <th>2099730</th>\n",
       "      <td>0.240834</td>\n",
       "    </tr>\n",
       "    <tr>\n",
       "      <th>2099731</th>\n",
       "      <td>0.240832</td>\n",
       "    </tr>\n",
       "    <tr>\n",
       "      <th>2099732</th>\n",
       "      <td>0.241351</td>\n",
       "    </tr>\n",
       "    <tr>\n",
       "      <th>2099733</th>\n",
       "      <td>0.241763</td>\n",
       "    </tr>\n",
       "    <tr>\n",
       "      <th>2099734</th>\n",
       "      <td>0.241976</td>\n",
       "    </tr>\n",
       "    <tr>\n",
       "      <th>2099735</th>\n",
       "      <td>0.241974</td>\n",
       "    </tr>\n",
       "    <tr>\n",
       "      <th>2099736</th>\n",
       "      <td>0.241974</td>\n",
       "    </tr>\n",
       "    <tr>\n",
       "      <th>2099737</th>\n",
       "      <td>0.241667</td>\n",
       "    </tr>\n",
       "    <tr>\n",
       "      <th>2099738</th>\n",
       "      <td>0.242575</td>\n",
       "    </tr>\n",
       "    <tr>\n",
       "      <th>2099739</th>\n",
       "      <td>0.241729</td>\n",
       "    </tr>\n",
       "    <tr>\n",
       "      <th>2099740</th>\n",
       "      <td>0.241960</td>\n",
       "    </tr>\n",
       "    <tr>\n",
       "      <th>2099741</th>\n",
       "      <td>0.241667</td>\n",
       "    </tr>\n",
       "    <tr>\n",
       "      <th>2099742</th>\n",
       "      <td>0.241670</td>\n",
       "    </tr>\n",
       "    <tr>\n",
       "      <th>2099743</th>\n",
       "      <td>0.241071</td>\n",
       "    </tr>\n",
       "    <tr>\n",
       "      <th>2099744</th>\n",
       "      <td>0.240467</td>\n",
       "    </tr>\n",
       "    <tr>\n",
       "      <th>2099745</th>\n",
       "      <td>0.240624</td>\n",
       "    </tr>\n",
       "    <tr>\n",
       "      <th>2099746</th>\n",
       "      <td>0.240629</td>\n",
       "    </tr>\n",
       "    <tr>\n",
       "      <th>2099747</th>\n",
       "      <td>0.240632</td>\n",
       "    </tr>\n",
       "    <tr>\n",
       "      <th>2099748</th>\n",
       "      <td>0.240510</td>\n",
       "    </tr>\n",
       "    <tr>\n",
       "      <th>2099749</th>\n",
       "      <td>0.240310</td>\n",
       "    </tr>\n",
       "    <tr>\n",
       "      <th>2099750</th>\n",
       "      <td>0.239636</td>\n",
       "    </tr>\n",
       "    <tr>\n",
       "      <th>2099751</th>\n",
       "      <td>0.238700</td>\n",
       "    </tr>\n",
       "    <tr>\n",
       "      <th>2099752</th>\n",
       "      <td>0.239519</td>\n",
       "    </tr>\n",
       "    <tr>\n",
       "      <th>2099753</th>\n",
       "      <td>0.239517</td>\n",
       "    </tr>\n",
       "    <tr>\n",
       "      <th>2099754</th>\n",
       "      <td>0.239370</td>\n",
       "    </tr>\n",
       "    <tr>\n",
       "      <th>2099755</th>\n",
       "      <td>0.239370</td>\n",
       "    </tr>\n",
       "    <tr>\n",
       "      <th>2099756</th>\n",
       "      <td>0.239370</td>\n",
       "    </tr>\n",
       "    <tr>\n",
       "      <th>2099757</th>\n",
       "      <td>0.239370</td>\n",
       "    </tr>\n",
       "    <tr>\n",
       "      <th>2099758</th>\n",
       "      <td>0.239235</td>\n",
       "    </tr>\n",
       "    <tr>\n",
       "      <th>2099759</th>\n",
       "      <td>0.239365</td>\n",
       "    </tr>\n",
       "  </tbody>\n",
       "</table>\n",
       "<p>2099760 rows × 1 columns</p>\n",
       "</div>"
      ],
      "text/plain": [
       "                0\n",
       "0       -0.747075\n",
       "1       -0.747075\n",
       "2       -0.747075\n",
       "3       -0.747075\n",
       "4       -0.747075\n",
       "5       -0.747075\n",
       "6       -0.747075\n",
       "7       -0.747075\n",
       "8       -0.747075\n",
       "9       -0.747075\n",
       "10      -0.747075\n",
       "11      -0.747075\n",
       "12      -0.747075\n",
       "13      -0.747075\n",
       "14      -0.747075\n",
       "15      -0.747075\n",
       "16      -0.747075\n",
       "17      -0.747075\n",
       "18      -0.747075\n",
       "19      -0.747075\n",
       "20      -0.747075\n",
       "21      -0.747075\n",
       "22      -0.747075\n",
       "23      -0.747075\n",
       "24      -0.747075\n",
       "25      -0.747075\n",
       "26      -0.747075\n",
       "27      -0.747075\n",
       "28      -0.747075\n",
       "29      -0.747075\n",
       "...           ...\n",
       "2099730  0.240834\n",
       "2099731  0.240832\n",
       "2099732  0.241351\n",
       "2099733  0.241763\n",
       "2099734  0.241976\n",
       "2099735  0.241974\n",
       "2099736  0.241974\n",
       "2099737  0.241667\n",
       "2099738  0.242575\n",
       "2099739  0.241729\n",
       "2099740  0.241960\n",
       "2099741  0.241667\n",
       "2099742  0.241670\n",
       "2099743  0.241071\n",
       "2099744  0.240467\n",
       "2099745  0.240624\n",
       "2099746  0.240629\n",
       "2099747  0.240632\n",
       "2099748  0.240510\n",
       "2099749  0.240310\n",
       "2099750  0.239636\n",
       "2099751  0.238700\n",
       "2099752  0.239519\n",
       "2099753  0.239517\n",
       "2099754  0.239370\n",
       "2099755  0.239370\n",
       "2099756  0.239370\n",
       "2099757  0.239370\n",
       "2099758  0.239235\n",
       "2099759  0.239365\n",
       "\n",
       "[2099760 rows x 1 columns]"
      ]
     },
     "execution_count": 218,
     "metadata": {},
     "output_type": "execute_result"
    }
   ],
   "source": [
    "a4"
   ]
  },
  {
   "cell_type": "markdown",
   "metadata": {},
   "source": [
    "## Data Visualizations"
   ]
  },
  {
   "cell_type": "code",
   "execution_count": 169,
   "metadata": {},
   "outputs": [
    {
     "data": {
      "text/html": [
       "<div>\n",
       "<style scoped>\n",
       "    .dataframe tbody tr th:only-of-type {\n",
       "        vertical-align: middle;\n",
       "    }\n",
       "\n",
       "    .dataframe tbody tr th {\n",
       "        vertical-align: top;\n",
       "    }\n",
       "\n",
       "    .dataframe thead th {\n",
       "        text-align: right;\n",
       "    }\n",
       "</style>\n",
       "<table border=\"1\" class=\"dataframe\">\n",
       "  <thead>\n",
       "    <tr style=\"text-align: right;\">\n",
       "      <th></th>\n",
       "      <th>Open</th>\n",
       "      <th>High</th>\n",
       "      <th>Low</th>\n",
       "      <th>Close</th>\n",
       "      <th>Volume_(BTC)</th>\n",
       "      <th>Volume_(Currency)</th>\n",
       "      <th>Weighted_Price</th>\n",
       "    </tr>\n",
       "  </thead>\n",
       "  <tbody>\n",
       "    <tr>\n",
       "      <th>Open</th>\n",
       "      <td>1.000000</td>\n",
       "      <td>0.999998</td>\n",
       "      <td>0.999998</td>\n",
       "      <td>0.999997</td>\n",
       "      <td>0.155748</td>\n",
       "      <td>0.402938</td>\n",
       "      <td>0.999999</td>\n",
       "    </tr>\n",
       "    <tr>\n",
       "      <th>High</th>\n",
       "      <td>0.999998</td>\n",
       "      <td>1.000000</td>\n",
       "      <td>0.999996</td>\n",
       "      <td>0.999998</td>\n",
       "      <td>0.156343</td>\n",
       "      <td>0.403786</td>\n",
       "      <td>0.999999</td>\n",
       "    </tr>\n",
       "    <tr>\n",
       "      <th>Low</th>\n",
       "      <td>0.999998</td>\n",
       "      <td>0.999996</td>\n",
       "      <td>1.000000</td>\n",
       "      <td>0.999998</td>\n",
       "      <td>0.155085</td>\n",
       "      <td>0.402022</td>\n",
       "      <td>0.999999</td>\n",
       "    </tr>\n",
       "    <tr>\n",
       "      <th>Close</th>\n",
       "      <td>0.999997</td>\n",
       "      <td>0.999998</td>\n",
       "      <td>0.999998</td>\n",
       "      <td>1.000000</td>\n",
       "      <td>0.155728</td>\n",
       "      <td>0.402930</td>\n",
       "      <td>0.999999</td>\n",
       "    </tr>\n",
       "    <tr>\n",
       "      <th>Volume_(BTC)</th>\n",
       "      <td>0.155748</td>\n",
       "      <td>0.156343</td>\n",
       "      <td>0.155085</td>\n",
       "      <td>0.155728</td>\n",
       "      <td>1.000000</td>\n",
       "      <td>0.708594</td>\n",
       "      <td>0.155700</td>\n",
       "    </tr>\n",
       "    <tr>\n",
       "      <th>Volume_(Currency)</th>\n",
       "      <td>0.402938</td>\n",
       "      <td>0.403786</td>\n",
       "      <td>0.402022</td>\n",
       "      <td>0.402930</td>\n",
       "      <td>0.708594</td>\n",
       "      <td>1.000000</td>\n",
       "      <td>0.402887</td>\n",
       "    </tr>\n",
       "    <tr>\n",
       "      <th>Weighted_Price</th>\n",
       "      <td>0.999999</td>\n",
       "      <td>0.999999</td>\n",
       "      <td>0.999999</td>\n",
       "      <td>0.999999</td>\n",
       "      <td>0.155700</td>\n",
       "      <td>0.402887</td>\n",
       "      <td>1.000000</td>\n",
       "    </tr>\n",
       "  </tbody>\n",
       "</table>\n",
       "</div>"
      ],
      "text/plain": [
       "                       Open      High       Low     Close  Volume_(BTC)  \\\n",
       "Open               1.000000  0.999998  0.999998  0.999997      0.155748   \n",
       "High               0.999998  1.000000  0.999996  0.999998      0.156343   \n",
       "Low                0.999998  0.999996  1.000000  0.999998      0.155085   \n",
       "Close              0.999997  0.999998  0.999998  1.000000      0.155728   \n",
       "Volume_(BTC)       0.155748  0.156343  0.155085  0.155728      1.000000   \n",
       "Volume_(Currency)  0.402938  0.403786  0.402022  0.402930      0.708594   \n",
       "Weighted_Price     0.999999  0.999999  0.999999  0.999999      0.155700   \n",
       "\n",
       "                   Volume_(Currency)  Weighted_Price  \n",
       "Open                        0.402938        0.999999  \n",
       "High                        0.403786        0.999999  \n",
       "Low                         0.402022        0.999999  \n",
       "Close                       0.402930        0.999999  \n",
       "Volume_(BTC)                0.708594        0.155700  \n",
       "Volume_(Currency)           1.000000        0.402887  \n",
       "Weighted_Price              0.402887        1.000000  "
      ]
     },
     "execution_count": 169,
     "metadata": {},
     "output_type": "execute_result"
    }
   ],
   "source": [
    "bitcoin.corr() # Finding highly correlated columns...so that it can be treated."
   ]
  },
  {
   "cell_type": "code",
   "execution_count": 170,
   "metadata": {},
   "outputs": [
    {
     "data": {
      "image/png": "[encoded data removed]",
      "text/plain": [
       "<Figure size 720x576 with 2 Axes>"
      ]
     },
     "metadata": {
      "needs_background": "light"
     },
     "output_type": "display_data"
    }
   ],
   "source": [
    "# Plotting above table in the form of Heatmap\n",
    "f,ax = plt.subplots(figsize=(10, 8))\n",
    "sns.heatmap(bitcoin.corr(), annot=True, linewidths=.5, fmt= '.1f',ax=ax)\n",
    "plt.show()"
   ]
  },
  {
   "cell_type": "markdown",
   "metadata": {},
   "source": [
    "# Plotting graph of independent columns"
   ]
  },
  {
   "cell_type": "code",
   "execution_count": 171,
   "metadata": {},
   "outputs": [],
   "source": [
    "Open = bitcoin[[\"Open\"]]                     #  Selecting only the required coloumn which has to be pplot.\n",
    "High = bitcoin[[\"High\"]] \n",
    "Low  = bitcoin[[\"Low\"]]\n",
    "Close= bitcoin[[\"Close\"]]"
   ]
  },
  {
   "cell_type": "code",
   "execution_count": 172,
   "metadata": {},
   "outputs": [
    {
     "data": {
      "image/png": "[encoded data removed]",
      "text/plain": [
       "<Figure size 432x288 with 1 Axes>"
      ]
     },
     "metadata": {
      "needs_background": "light"
     },
     "output_type": "display_data"
    },
    {
     "data": {
      "image/png": "[encoded data removed]",
      "text/plain": [
       "<Figure size 432x288 with 1 Axes>"
      ]
     },
     "metadata": {
      "needs_background": "light"
     },
     "output_type": "display_data"
    },
    {
     "data": {
      "image/png": "[encoded data removed]",
      "text/plain": [
       "<Figure size 432x288 with 1 Axes>"
      ]
     },
     "metadata": {
      "needs_background": "light"
     },
     "output_type": "display_data"
    },
    {
     "data": {
      "image/png": "[encoded data removed]",
      "text/plain": [
       "<Figure size 432x288 with 1 Axes>"
      ]
     },
     "metadata": {
      "needs_background": "light"
     },
     "output_type": "display_data"
    }
   ],
   "source": [
    "fig=sns.distplot(High,color='r',kde=True)\n",
    "plt.title(\"Open\")\n",
    "plt.show()\n",
    "\n",
    "fig=sns.distplot(High,color='b',kde=True)\n",
    "plt.title(\"High\")\n",
    "plt.show()\n",
    "\n",
    "fig=sns.distplot(Low,color='g',kde=True)\n",
    "plt.title(\"Low\")\n",
    "plt.show()\n",
    "\n",
    "fig=sns.distplot(Close,color='y',kde=True)\n",
    "plt.title(\"Close\")\n",
    "plt.show()"
   ]
  },
  {
   "cell_type": "code",
   "execution_count": 16,
   "metadata": {},
   "outputs": [
    {
     "data": {
      "image/png": "[encoded data removed]",
      "text/plain": [
       "<Figure size 432x288 with 1 Axes>"
      ]
     },
     "metadata": {
      "needs_background": "light"
     },
     "output_type": "display_data"
    }
   ],
   "source": [
    "# Scatter Plot... by using Matplotlib.\n",
    "\n",
    "bitcoin.plot(kind='scatter', x='Volume_(BTC)', y='Volume_(Currency)',alpha = 0.5)\n",
    "plt.xlabel('BTC Volume')            \n",
    "plt.ylabel('Currency Volume')\n",
    "plt.title('BTC-Currency Scatter Plot') \n",
    "plt.show()"
   ]
  },
  {
   "cell_type": "markdown",
   "metadata": {},
   "source": [
    "## Splitting Data into Training set and Testing set"
   ]
  },
  {
   "cell_type": "code",
   "execution_count": 249,
   "metadata": {},
   "outputs": [],
   "source": [
    "# Higly correlated column has been dropped.\n",
    "\n",
    "x=bitcoin.iloc[:,[2,3]]\n",
    "y=bitcoin.iloc[:,7]"
   ]
  },
  {
   "cell_type": "markdown",
   "metadata": {},
   "source": [
    "#### Devided the Training set as 80% and Testing set as 20%"
   ]
  },
  {
   "cell_type": "code",
   "execution_count": 250,
   "metadata": {},
   "outputs": [],
   "source": [
    "from sklearn.model_selection import train_test_split\n",
    "x_train, x_test, y_train, y_test = train_test_split(x, y, test_size = 0.2)"
   ]
  },
  {
   "cell_type": "markdown",
   "metadata": {},
   "source": [
    "## Applying Linear Regression algorithm for prediction"
   ]
  },
  {
   "cell_type": "code",
   "execution_count": 251,
   "metadata": {},
   "outputs": [],
   "source": [
    "from sklearn.linear_model import LinearRegression\n",
    "lm = LinearRegression()"
   ]
  },
  {
   "cell_type": "markdown",
   "metadata": {},
   "source": [
    "## Training the Simple Linear Regression model on the Training Set"
   ]
  },
  {
   "cell_type": "code",
   "execution_count": 252,
   "metadata": {},
   "outputs": [
    {
     "data": {
      "text/plain": [
       "LinearRegression(copy_X=True, fit_intercept=True, n_jobs=None, normalize=False)"
      ]
     },
     "execution_count": 252,
     "metadata": {},
     "output_type": "execute_result"
    }
   ],
   "source": [
    "lm.fit(x_train,y_train)"
   ]
  },
  {
   "cell_type": "markdown",
   "metadata": {},
   "source": [
    "## Testing "
   ]
  },
  {
   "cell_type": "code",
   "execution_count": 253,
   "metadata": {},
   "outputs": [
    {
     "data": {
      "text/plain": [
       "207663       225.695914\n",
       "1439693     4379.019694\n",
       "28430        233.958584\n",
       "267978       290.909257\n",
       "1012932      780.052620\n",
       "1741460     9604.991930\n",
       "1841997     6166.181703\n",
       "1129271     1273.990338\n",
       "1041009     1028.934963\n",
       "1877712     6940.514582\n",
       "446560       330.104032\n",
       "1523975    11408.822387\n",
       "62670        238.195049\n",
       "2017988     6374.261777\n",
       "942594       654.620000\n",
       "399814       253.374868\n",
       "1717301     8117.013331\n",
       "1345113     2756.739896\n",
       "429915       400.199596\n",
       "1519841     9764.013101\n",
       "1825677     6334.989909\n",
       "1236230     1818.791857\n",
       "861023       574.968689\n",
       "428951       487.987594\n",
       "1480800     7147.607320\n",
       "1971039     6500.991944\n",
       "1616810     6741.567852\n",
       "1991678     6436.197252\n",
       "2077228     4002.010000\n",
       "1718962     8089.998537\n",
       "               ...     \n",
       "408741       267.610000\n",
       "1242853     2209.014948\n",
       "1524166    11462.917492\n",
       "253734       271.086824\n",
       "1758971     8219.007979\n",
       "1693338     7123.561921\n",
       "896620       603.296595\n",
       "2064164     3263.264711\n",
       "749853       682.446830\n",
       "1798097     6845.000000\n",
       "1673621     7915.999989\n",
       "1108858     1068.971342\n",
       "1439983     4363.119803\n",
       "1377059     4136.759440\n",
       "1480611     7181.506417\n",
       "616654       413.100000\n",
       "361365       233.400000\n",
       "1033166      940.688960\n",
       "203828       230.560000\n",
       "408454       269.317241\n",
       "1144565     1257.045511\n",
       "1172978     1156.070000\n",
       "1242349     2190.072896\n",
       "1668023     9239.992425\n",
       "1381635     4311.457830\n",
       "262694       302.429929\n",
       "467131       377.468373\n",
       "281814       289.592909\n",
       "881777       609.088732\n",
       "1902144     6469.877266\n",
       "Name: Weighted_Price, Length: 419952, dtype: float64"
      ]
     },
     "execution_count": 253,
     "metadata": {},
     "output_type": "execute_result"
    }
   ],
   "source": [
    "y_test"
   ]
  },
  {
   "cell_type": "markdown",
   "metadata": {},
   "source": [
    "## Predicting the test set result"
   ]
  },
  {
   "cell_type": "code",
   "execution_count": 254,
   "metadata": {},
   "outputs": [
    {
     "data": {
      "text/plain": [
       "array([ 225.68574751, 4379.00587973,  233.75062098, ...,  289.58578937,\n",
       "        609.03594286, 6469.54905293])"
      ]
     },
     "execution_count": 254,
     "metadata": {},
     "output_type": "execute_result"
    }
   ],
   "source": [
    "pred=lm.predict(x_test)\n",
    "pred"
   ]
  },
  {
   "cell_type": "code",
   "execution_count": 255,
   "metadata": {},
   "outputs": [
    {
     "data": {
      "text/plain": [
       "-0.004369480789591762"
      ]
     },
     "execution_count": 255,
     "metadata": {},
     "output_type": "execute_result"
    }
   ],
   "source": [
    "lm.intercept_"
   ]
  },
  {
   "cell_type": "code",
   "execution_count": 256,
   "metadata": {},
   "outputs": [
    {
     "data": {
      "text/plain": [
       "array([0.49972133, 0.50027924])"
      ]
     },
     "execution_count": 256,
     "metadata": {},
     "output_type": "execute_result"
    }
   ],
   "source": [
    "lm.coef_"
   ]
  },
  {
   "cell_type": "code",
   "execution_count": 257,
   "metadata": {},
   "outputs": [],
   "source": [
    "from sklearn.metrics import r2_score"
   ]
  },
  {
   "cell_type": "code",
   "execution_count": 258,
   "metadata": {},
   "outputs": [
    {
     "data": {
      "text/plain": [
       "0.9999997311079298"
      ]
     },
     "execution_count": 258,
     "metadata": {},
     "output_type": "execute_result"
    }
   ],
   "source": [
    "r2_score(y_test,pred)"
   ]
  },
  {
   "cell_type": "markdown",
   "metadata": {},
   "source": [
    "# Conclusion"
   ]
  },
  {
   "cell_type": "markdown",
   "metadata": {},
   "source": [
    "### When I started the project from the given dataset which was consisting of 2099760 no. of rows in which 109069 rows were containing missing values. After treating those missing values certain outliers has also been detected and showed in boxplot also. Then standardization has also been done . When it comes to data visualization I have also plotted some basic graph plots. When it comes to prediction then the dependent column and independent columns has been splitted in the form of training set and testing set using SkLearn Library. Then the Linear Regression algorithm has been implemented, and after all computations and analysis the current prediction rate of the model is 99%."
   ]
  },
  {
   "cell_type": "code",
   "execution_count": null,
   "metadata": {},
   "outputs": [],
   "source": []
  }
 ],
 "metadata": {
  "kernelspec": {
   "display_name": "Python 3",
   "language": "python",
   "name": "python3"
  },
  "language_info": {
   "codemirror_mode": {
    "name": "ipython",
    "version": 3
   },
   "file_extension": ".py",
   "mimetype": "text/x-python",
   "name": "python",
   "nbconvert_exporter": "python",
   "pygments_lexer": "ipython3",
   "version": "3.7.3"
  }
 },
 "nbformat": 4,
 "nbformat_minor": 2
}
